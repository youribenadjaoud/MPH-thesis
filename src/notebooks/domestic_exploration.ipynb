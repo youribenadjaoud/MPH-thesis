{
 "cells": [
  {
   "cell_type": "markdown",
   "metadata": {},
   "source": [
    "## Domestic COVID Data Exploration \n",
    "\n",
    "In this notebook, we explore U.S. COVID data from various sources"
   ]
  },
  {
   "cell_type": "code",
   "execution_count": 20,
   "metadata": {},
   "outputs": [],
   "source": [
    "import pandas as pd\n",
    "import numpy as np"
   ]
  },
  {
   "cell_type": "code",
   "execution_count": 21,
   "metadata": {},
   "outputs": [],
   "source": [
    "df_vacc_up = pd.read_csv('../../data/cdc/COVID-19_Vaccinations_in_the_United_States_County.csv')\n",
    "df_vacc_dist = pd.read_csv('../../data/cdc/COVID-19_Vaccinations_in_the_United_States_Jurisdiction.csv')"
   ]
  },
  {
   "cell_type": "code",
   "execution_count": 25,
   "metadata": {},
   "outputs": [],
   "source": [
    "df_vacc_man = pd.read_csv('../../data/kff/vaccine_mandates.csv',  skiprows=[0,1,3,55,56,57,58])"
   ]
  },
  {
   "cell_type": "code",
   "execution_count": 27,
   "metadata": {},
   "outputs": [
    {
     "data": {
      "text/html": [
       "<div>\n",
       "<style scoped>\n",
       "    .dataframe tbody tr th:only-of-type {\n",
       "        vertical-align: middle;\n",
       "    }\n",
       "\n",
       "    .dataframe tbody tr th {\n",
       "        vertical-align: top;\n",
       "    }\n",
       "\n",
       "    .dataframe thead th {\n",
       "        text-align: right;\n",
       "    }\n",
       "</style>\n",
       "<table border=\"1\" class=\"dataframe\">\n",
       "  <thead>\n",
       "    <tr style=\"text-align: right;\">\n",
       "      <th></th>\n",
       "      <th>Location</th>\n",
       "      <th>Any Mandate in Place?</th>\n",
       "      <th>Description of Mandate or Prohibition</th>\n",
       "      <th>Filed Lawsuit Challenging Federal Vaccine Requirements?</th>\n",
       "      <th>Federal Vaccine Requirement(s) State Is Challenging</th>\n",
       "      <th>Footnotes</th>\n",
       "    </tr>\n",
       "  </thead>\n",
       "  <tbody>\n",
       "    <tr>\n",
       "      <th>0</th>\n",
       "      <td>Alabama</td>\n",
       "      <td>Prohibited</td>\n",
       "      <td>State and local governments are prohibited fro...</td>\n",
       "      <td>Yes</td>\n",
       "      <td>Federal Contractors; Employers with 100+ Emplo...</td>\n",
       "      <td>NaN</td>\n",
       "    </tr>\n",
       "    <tr>\n",
       "      <th>1</th>\n",
       "      <td>Alaska</td>\n",
       "      <td>No</td>\n",
       "      <td>NaN</td>\n",
       "      <td>Yes</td>\n",
       "      <td>Federal Contractors; Employers with 100+ Emplo...</td>\n",
       "      <td>1.0</td>\n",
       "    </tr>\n",
       "    <tr>\n",
       "      <th>2</th>\n",
       "      <td>Arizona</td>\n",
       "      <td>Prohibited</td>\n",
       "      <td>State and local governments are prohibited fro...</td>\n",
       "      <td>Yes</td>\n",
       "      <td>Federal Contractors; Employers with 100+ Emplo...</td>\n",
       "      <td>NaN</td>\n",
       "    </tr>\n",
       "    <tr>\n",
       "      <th>3</th>\n",
       "      <td>Arkansas</td>\n",
       "      <td>Prohibited</td>\n",
       "      <td>State and local governments are prohibited fro...</td>\n",
       "      <td>Yes</td>\n",
       "      <td>Federal Contractors; Employers with 100+ Emplo...</td>\n",
       "      <td>1.0</td>\n",
       "    </tr>\n",
       "    <tr>\n",
       "      <th>4</th>\n",
       "      <td>California</td>\n",
       "      <td>Yes</td>\n",
       "      <td>State employees must be vaccinated against COV...</td>\n",
       "      <td>No</td>\n",
       "      <td>NaN</td>\n",
       "      <td>NaN</td>\n",
       "    </tr>\n",
       "  </tbody>\n",
       "</table>\n",
       "</div>"
      ],
      "text/plain": [
       "     Location Any Mandate in Place?  \\\n",
       "0     Alabama            Prohibited   \n",
       "1      Alaska                    No   \n",
       "2     Arizona            Prohibited   \n",
       "3    Arkansas            Prohibited   \n",
       "4  California                   Yes   \n",
       "\n",
       "               Description of Mandate or Prohibition  \\\n",
       "0  State and local governments are prohibited fro...   \n",
       "1                                                NaN   \n",
       "2  State and local governments are prohibited fro...   \n",
       "3  State and local governments are prohibited fro...   \n",
       "4  State employees must be vaccinated against COV...   \n",
       "\n",
       "  Filed Lawsuit Challenging Federal Vaccine Requirements?  \\\n",
       "0                                                Yes        \n",
       "1                                                Yes        \n",
       "2                                                Yes        \n",
       "3                                                Yes        \n",
       "4                                                 No        \n",
       "\n",
       "  Federal Vaccine Requirement(s) State Is Challenging  Footnotes  \n",
       "0  Federal Contractors; Employers with 100+ Emplo...         NaN  \n",
       "1  Federal Contractors; Employers with 100+ Emplo...         1.0  \n",
       "2  Federal Contractors; Employers with 100+ Emplo...         NaN  \n",
       "3  Federal Contractors; Employers with 100+ Emplo...         1.0  \n",
       "4                                                NaN         NaN  "
      ]
     },
     "execution_count": 27,
     "metadata": {},
     "output_type": "execute_result"
    }
   ],
   "source": [
    "df_vacc_man.head()"
   ]
  },
  {
   "cell_type": "code",
   "execution_count": null,
   "metadata": {},
   "outputs": [],
   "source": []
  }
 ],
 "metadata": {
  "interpreter": {
   "hash": "a3e42da53f96c9390829666d0517024526ab8888bc24c09a30269966c85f4ea4"
  },
  "kernelspec": {
   "display_name": "Python 3.9.10 ('mph-thesis-UpxVBvnG-py3.9')",
   "language": "python",
   "name": "python3"
  },
  "language_info": {
   "codemirror_mode": {
    "name": "ipython",
    "version": 3
   },
   "file_extension": ".py",
   "mimetype": "text/x-python",
   "name": "python",
   "nbconvert_exporter": "python",
   "pygments_lexer": "ipython3",
   "version": "3.9.10"
  },
  "orig_nbformat": 4
 },
 "nbformat": 4,
 "nbformat_minor": 2
}
